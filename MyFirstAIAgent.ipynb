{
  "nbformat": 4,
  "nbformat_minor": 0,
  "metadata": {
    "colab": {
      "provenance": [],
      "toc_visible": true,
      "authorship_tag": "ABX9TyNbJEFyjaNucVYYjlpyp4kl",
      "include_colab_link": true
    },
    "kernelspec": {
      "name": "python3",
      "display_name": "Python 3"
    },
    "language_info": {
      "name": "python"
    }
  },
  "cells": [
    {
      "cell_type": "markdown",
      "metadata": {
        "id": "view-in-github",
        "colab_type": "text"
      },
      "source": [
        "<a href=\"https://colab.research.google.com/github/manishchakraborty/handson-ml/blob/master/MyFirstAIAgent.ipynb\" target=\"_parent\"><img src=\"https://colab.research.google.com/assets/colab-badge.svg\" alt=\"Open In Colab\"/></a>"
      ]
    },
    {
      "cell_type": "code",
      "execution_count": 1,
      "metadata": {
        "id": "XKn7mACaLtJn"
      },
      "outputs": [],
      "source": [
        "import google.generativeai as genai\n",
        "from google.colab import userdata"
      ]
    },
    {
      "cell_type": "code",
      "source": [
        "# Configure gemeni API key\n",
        "# Access the API key from Colab secrets\n",
        "\n",
        "# https://aistudio.google.com/app/apikey\n",
        "\n",
        "genai.configure(api_key=userdata.get('GOOGLE_API_KEY'))\n",
        "\n",
        "# Load Gemini pro model\n",
        "model = genai.GenerativeModel(\"gemini-1.5-flash\")"
      ],
      "metadata": {
        "id": "A6Umrun3M-Fo"
      },
      "execution_count": 2,
      "outputs": []
    },
    {
      "cell_type": "code",
      "source": [
        "# Defione a very simple function for the agent\n",
        "def simple_agent(prompt):\n",
        "  response = model.generate_content(prompt)\n",
        "  return response.text"
      ],
      "metadata": {
        "id": "PmMLV01hM-rH"
      },
      "execution_count": 3,
      "outputs": []
    },
    {
      "cell_type": "code",
      "source": [
        "# Try first prompt\n",
        "question = \"Can you explain the difference between Agentic AI and AI Agents ?\"\n",
        "answer = simple_agent(question)"
      ],
      "metadata": {
        "id": "cI1UNcC6M-tr"
      },
      "execution_count": 4,
      "outputs": []
    },
    {
      "cell_type": "code",
      "source": [
        "print(answer)"
      ],
      "metadata": {
        "colab": {
          "base_uri": "https://localhost:8080/"
        },
        "id": "yS1VhKZBTQMj",
        "outputId": "462fdfbc-480a-4e65-ef63-e7904bf162e2"
      },
      "execution_count": 5,
      "outputs": [
        {
          "output_type": "stream",
          "name": "stdout",
          "text": [
            "The terms \"Agentic AI\" and \"AI Agents\" are closely related but not interchangeable. The distinction lies in the emphasis and scope:\n",
            "\n",
            "* **AI Agent:** This is a broader term.  An AI agent is simply a system that perceives its environment and takes actions to maximize its chances of successfully achieving its goals.  This is a very general definition and encompasses a wide variety of systems, from simple rule-based systems to complex deep learning models.  An AI agent doesn't necessarily have to be autonomous or exhibit sophisticated reasoning; it just needs to interact with its environment and act.  Think of a simple thermostat as an AI agent: it senses the temperature and takes action (turning the heating on or off) to maintain a desired temperature.\n",
            "\n",
            "* **Agentic AI:** This is a more specific and often implies a higher level of autonomy, intelligence, and proactive behavior.  Agentic AI emphasizes the *agency* of the AI – its capacity to act independently and purposefully in the world, often in unpredictable and complex environments.  Agentic AI systems typically exhibit characteristics like:\n",
            "\n",
            "    * **Autonomy:**  They can operate independently without constant human intervention.\n",
            "    * **Goal-directed behavior:** They pursue specific goals and adapt their actions to achieve them.\n",
            "    * **Proactive behavior:** They don't just react to stimuli; they actively seek out opportunities and anticipate future events.\n",
            "    * **Learning and adaptation:** They can learn from their experiences and adjust their behavior accordingly.\n",
            "    * **Complex reasoning and planning:** They can reason about their actions and plan sequences of actions to achieve complex goals.\n",
            "\n",
            "\n",
            "In essence, all Agentic AI systems are AI agents, but not all AI agents are Agentic AI.  An Agentic AI represents a more advanced and sophisticated type of AI agent.  The thermostat is an AI agent, but not an example of Agentic AI.  A self-driving car, on the other hand, would be considered an example of Agentic AI because it exhibits a higher degree of autonomy, goal-directed behavior, and adaptation.\n",
            "\n",
            "The distinction highlights the spectrum of capabilities within AI.  \"AI Agent\" is a foundational concept, while \"Agentic AI\" points towards a more advanced and ambitious frontier in the field.\n",
            "\n"
          ]
        }
      ]
    }
  ]
}